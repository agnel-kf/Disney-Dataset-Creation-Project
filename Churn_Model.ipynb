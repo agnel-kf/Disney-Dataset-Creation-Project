{
  "nbformat": 4,
  "nbformat_minor": 0,
  "metadata": {
    "colab": {
      "name": "Untitled0.ipynb",
      "provenance": [],
      "authorship_tag": "ABX9TyPgW4pQXOA7vtaiUWv44CPS",
      "include_colab_link": true
    },
    "kernelspec": {
      "name": "python3",
      "display_name": "Python 3"
    },
    "language_info": {
      "name": "python"
    },
    "accelerator": "GPU"
  },
  "cells": [
    {
      "cell_type": "markdown",
      "metadata": {
        "id": "view-in-github",
        "colab_type": "text"
      },
      "source": [
        "<a href=\"https://colab.research.google.com/github/agnel-kf/Disney-Dataset-Creation-Project/blob/main/Churn_Model.ipynb\" target=\"_parent\"><img src=\"https://colab.research.google.com/assets/colab-badge.svg\" alt=\"Open In Colab\"/></a>"
      ]
    },
    {
      "cell_type": "code",
      "metadata": {
        "id": "81m2mG8a9z6W"
      },
      "source": [
        "import pandas as pd\n",
        "import tensorflow as tf\n",
        "import numpy as np"
      ],
      "execution_count": 3,
      "outputs": []
    },
    {
      "cell_type": "markdown",
      "metadata": {
        "id": "TkPc6FVK_A5Z"
      },
      "source": [
        "Data Preprocessing"
      ]
    },
    {
      "cell_type": "code",
      "metadata": {
        "colab": {
          "base_uri": "https://localhost:8080/"
        },
        "id": "YB4P4_-p-4lA",
        "outputId": "35f99e3c-cc07-403b-a226-2cbd91951fa6"
      },
      "source": [
        "dataset = pd.read_csv('/Churn_Modelling.csv')\n",
        "X = dataset.iloc[:,3:-1].values\n",
        "y = dataset.iloc[:,-1].values\n",
        "y.reshape(len(y),1)\n",
        "print(X)\n",
        "print(y)"
      ],
      "execution_count": 5,
      "outputs": [
        {
          "output_type": "stream",
          "text": [
            "[[619 'France' 'Female' ... 1 1 101348.88]\n",
            " [608 'Spain' 'Female' ... 0 1 112542.58]\n",
            " [502 'France' 'Female' ... 1 0 113931.57]\n",
            " ...\n",
            " [709 'France' 'Female' ... 0 1 42085.58]\n",
            " [772 'Germany' 'Male' ... 1 0 92888.52]\n",
            " [792 'France' 'Female' ... 1 0 38190.78]]\n",
            "[1 0 1 ... 1 1 0]\n"
          ],
          "name": "stdout"
        }
      ]
    },
    {
      "cell_type": "markdown",
      "metadata": {
        "id": "hrOPxfh5_h8E"
      },
      "source": [
        "# Encoding\n",
        "## Label Encoding"
      ]
    },
    {
      "cell_type": "code",
      "metadata": {
        "colab": {
          "base_uri": "https://localhost:8080/"
        },
        "id": "WxFOdpOp_cKg",
        "outputId": "ced382b4-ef54-478e-d313-42b4c3bb9d03"
      },
      "source": [
        "from sklearn.preprocessing import LabelEncoder,OneHotEncoder\n",
        "from sklearn.compose import ColumnTransformer\n",
        "le = LabelEncoder()\n",
        "X[:,2] = le.fit_transform(X[:,2])\n",
        "print(X)"
      ],
      "execution_count": 6,
      "outputs": [
        {
          "output_type": "stream",
          "text": [
            "[[619 'France' 0 ... 1 1 101348.88]\n",
            " [608 'Spain' 0 ... 0 1 112542.58]\n",
            " [502 'France' 0 ... 1 0 113931.57]\n",
            " ...\n",
            " [709 'France' 0 ... 0 1 42085.58]\n",
            " [772 'Germany' 1 ... 1 0 92888.52]\n",
            " [792 'France' 0 ... 1 0 38190.78]]\n"
          ],
          "name": "stdout"
        }
      ]
    },
    {
      "cell_type": "markdown",
      "metadata": {
        "id": "LUns53ZuLkkJ"
      },
      "source": [
        "## One Hot Encoding"
      ]
    },
    {
      "cell_type": "code",
      "metadata": {
        "colab": {
          "base_uri": "https://localhost:8080/"
        },
        "id": "N2PsfhpqKF1c",
        "outputId": "eeed3b64-2eb3-4487-a366-888eada41b02"
      },
      "source": [
        "ct = ColumnTransformer( transformers = [\n",
        "                         ('encoder',OneHotEncoder(),[1])\n",
        "],remainder = 'passthrough')\n",
        "X = np.array(ct.fit_transform(X))\n",
        "print(X)"
      ],
      "execution_count": 7,
      "outputs": [
        {
          "output_type": "stream",
          "text": [
            "[[1.0 0.0 0.0 ... 1 1 101348.88]\n",
            " [0.0 0.0 1.0 ... 0 1 112542.58]\n",
            " [1.0 0.0 0.0 ... 1 0 113931.57]\n",
            " ...\n",
            " [1.0 0.0 0.0 ... 0 1 42085.58]\n",
            " [0.0 1.0 0.0 ... 1 0 92888.52]\n",
            " [1.0 0.0 0.0 ... 1 0 38190.78]]\n"
          ],
          "name": "stdout"
        }
      ]
    },
    {
      "cell_type": "code",
      "metadata": {
        "id": "XzHxg6lYIrf1"
      },
      "source": [
        "from sklearn.model_selection import train_test_split\n",
        "train_X,val_X,train_y,val_y = train_test_split(X,y,test_size = 0.25,random_state = 1)"
      ],
      "execution_count": 8,
      "outputs": []
    },
    {
      "cell_type": "markdown",
      "metadata": {
        "id": "34-eI8gRPLlx"
      },
      "source": [
        "# Feature Scaling"
      ]
    },
    {
      "cell_type": "code",
      "metadata": {
        "id": "9z4o71ymPjQR"
      },
      "source": [
        "from sklearn.preprocessing import StandardScaler\n",
        "sc = StandardScaler()\n",
        "train_X = sc.fit_transform(train_X)\n",
        "val_X = sc.transform(val_X)"
      ],
      "execution_count": 19,
      "outputs": []
    },
    {
      "cell_type": "code",
      "metadata": {
        "colab": {
          "base_uri": "https://localhost:8080/"
        },
        "id": "WvPkbSoXQIpV",
        "outputId": "58963f63-92c2-4517-9be3-bb07395db0d2"
      },
      "source": [
        "print(train_X)"
      ],
      "execution_count": 10,
      "outputs": [
        {
          "output_type": "stream",
          "text": [
            "[[ 1.00080032 -0.58207179 -0.57324462 ...  0.64262086  0.98333878\n",
            "  -1.48050131]\n",
            " [ 1.00080032 -0.58207179 -0.57324462 ...  0.64262086 -1.01694352\n",
            "  -1.56523002]\n",
            " [-0.99920032 -0.58207179  1.74445599 ...  0.64262086 -1.01694352\n",
            "  -1.18210827]\n",
            " ...\n",
            " [ 1.00080032 -0.58207179 -0.57324462 ...  0.64262086  0.98333878\n",
            "  -0.13896318]\n",
            " [ 1.00080032 -0.58207179 -0.57324462 ...  0.64262086  0.98333878\n",
            "   0.01979185]\n",
            " [-0.99920032  1.71800114 -0.57324462 ...  0.64262086 -1.01694352\n",
            "  -1.15605488]]\n"
          ],
          "name": "stdout"
        }
      ]
    },
    {
      "cell_type": "markdown",
      "metadata": {
        "id": "LRbXq_nyQc4W"
      },
      "source": [
        "# Building the model\n",
        "## Initialising the model"
      ]
    },
    {
      "cell_type": "code",
      "metadata": {
        "id": "lFeZQJPOQKgw"
      },
      "source": [
        "ann = tf.keras.models.Sequential()"
      ],
      "execution_count": 11,
      "outputs": []
    },
    {
      "cell_type": "markdown",
      "metadata": {
        "id": "GC3WKzWtQ59V"
      },
      "source": [
        "## Adding the input layer and hidden layer"
      ]
    },
    {
      "cell_type": "code",
      "metadata": {
        "id": "nQoJFrpoRIzq"
      },
      "source": [
        "ann.add(tf.keras.layers.Dense(units = 6,activation = 'relu'))"
      ],
      "execution_count": 12,
      "outputs": []
    },
    {
      "cell_type": "markdown",
      "metadata": {
        "id": "87aHQIrFR2pw"
      },
      "source": [
        "## Adding the second hidden layer"
      ]
    },
    {
      "cell_type": "code",
      "metadata": {
        "id": "BbaMSG66Rlrp"
      },
      "source": [
        "ann.add(tf.keras.layers.Dense(units = 6,activation = 'relu'))"
      ],
      "execution_count": 13,
      "outputs": []
    },
    {
      "cell_type": "markdown",
      "metadata": {
        "id": "XWFWiiowSRi5"
      },
      "source": [
        "## Adding the output layer"
      ]
    },
    {
      "cell_type": "code",
      "metadata": {
        "id": "SSr5F69ySPBL"
      },
      "source": [
        "ann.add(tf.keras.layers.Dense(units = 1,activation = 'sigmoid'))"
      ],
      "execution_count": 14,
      "outputs": []
    },
    {
      "cell_type": "markdown",
      "metadata": {
        "id": "8wA7ZtlHSz1g"
      },
      "source": [
        "# Training ANN on the Training Test\n",
        "## Compiling the ANN"
      ]
    },
    {
      "cell_type": "code",
      "metadata": {
        "id": "XlHXBy8yTR8t"
      },
      "source": [
        "ann.compile(optimizer = 'adam',loss = 'binary_crossentropy',metrics = ['accuracy'])"
      ],
      "execution_count": 15,
      "outputs": []
    },
    {
      "cell_type": "markdown",
      "metadata": {
        "id": "ozFJErVcTrVL"
      },
      "source": [
        ""
      ]
    },
    {
      "cell_type": "code",
      "metadata": {
        "id": "Tu4gbbNWSphw"
      },
      "source": [
        "ann.fit(train_X,train_y,batch_size =32,epochs = 100 )"
      ],
      "execution_count": null,
      "outputs": []
    },
    {
      "cell_type": "markdown",
      "metadata": {
        "id": "BWJDfTIKUFzE"
      },
      "source": [
        "# Predicting and Evaluating the Test Set"
      ]
    },
    {
      "cell_type": "code",
      "metadata": {
        "colab": {
          "base_uri": "https://localhost:8080/"
        },
        "id": "TFS1Y51GUFBL",
        "outputId": "e665f4d2-f405-4d3e-ccc2-bb29cef53d5a"
      },
      "source": [
        "y_preds = ann.predict(val_X)\n",
        "y_preds = (y_preds > 0.5)\n",
        "print(np.concatenate((y_preds.reshape(len(y_preds),1), val_y.reshape(len(val_y),1)),1))"
      ],
      "execution_count": 24,
      "outputs": [
        {
          "output_type": "stream",
          "text": [
            "[[1 0]\n",
            " [1 0]\n",
            " [1 0]\n",
            " ...\n",
            " [1 1]\n",
            " [1 0]\n",
            " [1 0]]\n"
          ],
          "name": "stdout"
        }
      ]
    },
    {
      "cell_type": "markdown",
      "metadata": {
        "id": "_8Syh7zaXr3m"
      },
      "source": [
        "## Predicting an individual row"
      ]
    },
    {
      "cell_type": "code",
      "metadata": {
        "colab": {
          "base_uri": "https://localhost:8080/"
        },
        "id": "C6aVjHbJUYLR",
        "outputId": "ad992d78-d6ce-4d8a-8423-250fe7a06597"
      },
      "source": [
        "example = sc.transform([[ 1,0,0,1,600,40,3,60000,2,1,1,50000]])\n",
        "example_prediction = ann.predict(example)\n",
        "print(example_prediction)"
      ],
      "execution_count": 28,
      "outputs": [
        {
          "output_type": "stream",
          "text": [
            "[[1.]]\n"
          ],
          "name": "stdout"
        }
      ]
    },
    {
      "cell_type": "code",
      "metadata": {
        "id": "ClPGnOC4YFj4"
      },
      "source": [
        ""
      ],
      "execution_count": null,
      "outputs": []
    }
  ]
}